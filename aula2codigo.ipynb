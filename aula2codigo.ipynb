{
 "cells": [
  {
   "cell_type": "code",
   "execution_count": 13,
   "metadata": {},
   "outputs": [],
   "source": [
    "def calcular_pop():\n",
    "    parana_populacao = 11\n",
    "    parana_crescimento = 0.02\n",
    "    populacao_a_mais_2025 = parana_populacao * parana_crescimento\n",
    "    populacao_2025 = parana_populacao + populacao_a_mais_2025\n",
    "    print (populacao_2025)"
   ]
  },
  {
   "cell_type": "code",
   "execution_count": 14,
   "metadata": {},
   "outputs": [
    {
     "name": "stdout",
     "output_type": "stream",
     "text": [
      "11.22\n"
     ]
    }
   ],
   "source": [
    "calcular_pop ()"
   ]
  },
  {
   "cell_type": "code",
   "execution_count": 18,
   "metadata": {},
   "outputs": [],
   "source": [
    "def pop_media_sul():\n",
    "    pop_pr = 11\n",
    "    pop_rs = 10\n",
    "    pop_sc = 7\n",
    "    pop_total = pop_pr + pop_sc + pop_rs\n",
    "    pop_media = pop_total/3\n",
    "    print (pop_media)"
   ]
  },
  {
   "cell_type": "code",
   "execution_count": 19,
   "metadata": {},
   "outputs": [
    {
     "name": "stdout",
     "output_type": "stream",
     "text": [
      "9.333333333333334\n"
     ]
    }
   ],
   "source": [
    "pop_media_sul()"
   ]
  },
  {
   "cell_type": "code",
   "execution_count": 26,
   "metadata": {},
   "outputs": [
    {
     "name": "stdout",
     "output_type": "stream",
     "text": [
      "Marielle Franco\n"
     ]
    }
   ],
   "source": [
    "pseudonimo=\"Marielle Franco\"\n",
    "print(pseudonimo)"
   ]
  },
  {
   "cell_type": "code",
   "execution_count": 27,
   "metadata": {},
   "outputs": [
    {
     "name": "stdout",
     "output_type": "stream",
     "text": [
      "MARIELLE FRANCO\n"
     ]
    }
   ],
   "source": [
    "pseudonimo_maiusc = pseudonimo.upper()\n",
    "print(pseudonimo_maiusc)"
   ]
  },
  {
   "cell_type": "code",
   "execution_count": 29,
   "metadata": {},
   "outputs": [
    {
     "name": "stdout",
     "output_type": "stream",
     "text": [
      "Marielle franco\n"
     ]
    }
   ],
   "source": [
    "pseudonimo_normal = pseudonimo.capitalize()\n",
    "print(pseudonimo_normal)"
   ]
  },
  {
   "cell_type": "code",
   "execution_count": 36,
   "metadata": {},
   "outputs": [
    {
     "name": "stdout",
     "output_type": "stream",
     "text": [
      "Karl Marx\n",
      "comunaKcomunaacomunarcomunalcomuna comunaMcomunaacomunarcomunaxcomuna\n"
     ]
    }
   ],
   "source": [
    "comunismo = \"Karl Marx\"\n",
    "print(comunismo)\n",
    "comunismo_simbolo = comunismo.replace('','comuna')\n",
    "print(comunismo_simbolo)"
   ]
  }
 ],
 "metadata": {
  "kernelspec": {
   "display_name": "Python 3",
   "language": "python",
   "name": "python3"
  },
  "language_info": {
   "codemirror_mode": {
    "name": "ipython",
    "version": 3
   },
   "file_extension": ".py",
   "mimetype": "text/x-python",
   "name": "python",
   "nbconvert_exporter": "python",
   "pygments_lexer": "ipython3",
   "version": "3.10.12"
  }
 },
 "nbformat": 4,
 "nbformat_minor": 2
}
