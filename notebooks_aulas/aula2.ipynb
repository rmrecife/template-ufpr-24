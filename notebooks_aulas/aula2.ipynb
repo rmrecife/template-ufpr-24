{
 "cells": [
  {
   "cell_type": "markdown",
   "metadata": {},
   "source": [
    "# Aula 2"
   ]
  },
  {
   "cell_type": "markdown",
   "metadata": {},
   "source": [
    "Nesta aula, aprendemos sobre variáveis, números e *strings* (texto)"
   ]
  },
  {
   "cell_type": "markdown",
   "metadata": {},
   "source": [
    "## Números e variáveis"
   ]
  },
  {
   "cell_type": "markdown",
   "metadata": {},
   "source": [
    "Números são um *tipo* de dados que podemos manipular com o Python.\n",
    "\n",
    "Criamos váriaveis da seguinte forma:\n",
    "```py\n",
    "minha_primeira_variavel = 10\n",
    "```\n",
    "\n",
    "A variável `minha_primeira_variavel` agora contém o valor `10`.\n",
    "\n",
    "O nome da variável é arbitrario, mas deve seguir algumas regras.\n",
    "Observe que no nome da variável, ao invés de usar espaços, usamos o caractere `_`.\n",
    "Desde que use letras e nenhum caractere especial fora do `_`, não teremos problemas."
   ]
  },
  {
   "cell_type": "markdown",
   "metadata": {},
   "source": [
    "### População do ano que vem"
   ]
  },
  {
   "cell_type": "code",
   "execution_count": 1,
   "metadata": {},
   "outputs": [],
   "source": [
    "def calcular_pop():\n",
    "    parana_populacao = 11\n",
    "    parana_crescimento = 0.02\n",
    "    populacao_a_mais_2025 = parana_populacao * parana_crescimento\n",
    "    populacao_2025 = populacao_a_mais_2025 + parana_populacao\n",
    "    print(populacao_2025)"
   ]
  },
  {
   "cell_type": "markdown",
   "metadata": {},
   "source": [
    "### Média de população dos estados do sul"
   ]
  },
  {
   "cell_type": "code",
   "execution_count": 2,
   "metadata": {},
   "outputs": [],
   "source": [
    "def calcular_media_pop():\n",
    "    pop_pr = 11\n",
    "    pop_rs = 10\n",
    "    pop_sc = 7\n",
    "    pop_total = pop_pr + pop_rs + pop_sc\n",
    "    numero_estados = 3\n",
    "    media_pop = pop_total / numero_estados\n",
    "    print(media_pop)"
   ]
  },
  {
   "cell_type": "markdown",
   "metadata": {},
   "source": [
    "## Strings (texto)"
   ]
  },
  {
   "cell_type": "markdown",
   "metadata": {},
   "source": [
    "Strings são tipos de dados de texto.\n",
    "\n",
    "Podemos criar variáveis de string da mesma forma que criamos as variáveis de números"
   ]
  },
  {
   "cell_type": "code",
   "execution_count": 3,
   "metadata": {},
   "outputs": [
    {
     "name": "stdout",
     "output_type": "stream",
     "text": [
      "Marquinhos Moura\n"
     ]
    }
   ],
   "source": [
    "pseudonimo = \"Marquinhos Moura\"\n",
    "print(pseudonimo)"
   ]
  },
  {
   "cell_type": "markdown",
   "metadata": {},
   "source": [
    "Podemos alterar strings com várias funções diferentes de manipulação.\n",
    "\n",
    "A célula a seguir transforma todas as letras em maiúsculas:"
   ]
  },
  {
   "cell_type": "code",
   "execution_count": 4,
   "metadata": {},
   "outputs": [
    {
     "name": "stdout",
     "output_type": "stream",
     "text": [
      "MARQUINHOS MOURA\n"
     ]
    }
   ],
   "source": [
    "pseudonimo_maiusc = pseudonimo.upper()\n",
    "print(pseudonimo_maiusc)"
   ]
  },
  {
   "cell_type": "markdown",
   "metadata": {},
   "source": [
    "Podemos substituir partes da string:"
   ]
  },
  {
   "cell_type": "code",
   "execution_count": 5,
   "metadata": {},
   "outputs": [
    {
     "name": "stdout",
     "output_type": "stream",
     "text": [
      "Marquinhos_Moura\n"
     ]
    }
   ],
   "source": [
    "print(pseudonimo.replace(' ', '_'))"
   ]
  },
  {
   "cell_type": "markdown",
   "metadata": {},
   "source": [
    "Com `split`, é possível dividir o texto"
   ]
  },
  {
   "cell_type": "code",
   "execution_count": 6,
   "metadata": {},
   "outputs": [
    {
     "name": "stdout",
     "output_type": "stream",
     "text": [
      "['Marquinhos', 'Moura']\n"
     ]
    }
   ],
   "source": [
    "print(pseudonimo.split(' '))"
   ]
  },
  {
   "cell_type": "markdown",
   "metadata": {},
   "source": [
    "É possível *indexar* a string para recortar partes do texto:"
   ]
  },
  {
   "cell_type": "code",
   "execution_count": 8,
   "metadata": {},
   "outputs": [
    {
     "name": "stdout",
     "output_type": "stream",
     "text": [
      "karl marx karl☭marx\n",
      "karl☭marx\n",
      "k\n",
      "karl\n",
      "karl\n",
      "karl☭marx\n",
      "karl☭marx\n",
      "x\n",
      "r\n",
      "☭mar\n"
     ]
    }
   ],
   "source": [
    "comunismo = ('karl marx')\n",
    "comunismo_symbol = comunismo.replace(' ', '☭')\n",
    "print(comunismo, comunismo_symbol)\n",
    "\n",
    "print(comunismo_symbol)\n",
    "print(comunismo_symbol[0])\n",
    "print(comunismo_symbol[0:4])\n",
    "print(comunismo_symbol[:4])\n",
    "print(comunismo_symbol[:])\n",
    "print(comunismo_symbol[0:])\n",
    "print(comunismo_symbol[-1])\n",
    "print(comunismo_symbol[-2])\n",
    "print(comunismo_symbol[4:-1])"
   ]
  },
  {
   "cell_type": "markdown",
   "metadata": {},
   "source": [
    "Leia mais sobre outras funções de manipulação de string no link: https://www.w3schools.com/python/python_ref_string.asp"
   ]
  }
 ],
 "metadata": {
  "kernelspec": {
   "display_name": "Python 3",
   "language": "python",
   "name": "python3"
  },
  "language_info": {
   "codemirror_mode": {
    "name": "ipython",
    "version": 3
   },
   "file_extension": ".py",
   "mimetype": "text/x-python",
   "name": "python",
   "nbconvert_exporter": "python",
   "pygments_lexer": "ipython3",
   "version": "3.10.13"
  }
 },
 "nbformat": 4,
 "nbformat_minor": 2
}
